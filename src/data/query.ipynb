{
 "cells": [
  {
   "cell_type": "code",
   "execution_count": 1,
   "metadata": {},
   "outputs": [],
   "source": [
    "import pandas as pd"
   ]
  },
  {
   "cell_type": "code",
   "execution_count": 4,
   "metadata": {},
   "outputs": [],
   "source": [
    "df = pd.read_excel(\"ForsythCounty_Tract_IncomeData_JoyAug26.xlsx\")"
   ]
  },
  {
   "cell_type": "code",
   "execution_count": 5,
   "metadata": {},
   "outputs": [
    {
     "name": "stdout",
     "output_type": "stream",
     "text": [
      "     CENSUS_TRACT        GEOID  Tract_Code  Zip Code  Year  LFParticipRate  \\\n",
      "0            1.00  37067000100         100   27101.0  2019       52.244009   \n",
      "1            1.00  37067000100         100   27101.0  2018       47.835788   \n",
      "2            1.00  37067000100         100   27101.0  2017       47.614593   \n",
      "3            1.00  37067000100         100   27101.0  2016       49.113560   \n",
      "4            1.00  37067000100         100   27101.0  2015       48.558648   \n",
      "..            ...          ...         ...       ...   ...             ...   \n",
      "739         41.04  37067004104        4104       NaN  2017       62.602137   \n",
      "740         41.04  37067004104        4104       NaN  2016       64.456060   \n",
      "741         41.04  37067004104        4104       NaN  2015       65.491830   \n",
      "742         41.04  37067004104        4104       NaN  2014       63.850503   \n",
      "743         41.04  37067004104        4104       NaN  2013       65.971357   \n",
      "\n",
      "     UnempRate  HHPovRate   PctWhite   PctBlack  ...  Year2015  Year2014  \\\n",
      "0     2.418682  14.761476  62.887931  26.379310  ...         0         0   \n",
      "1     2.518657  14.523185  62.094984  27.163782  ...         0         0   \n",
      "2     7.465619  17.902351  61.212121  29.836830  ...         0         0   \n",
      "3     7.121951  25.872874  58.217537  32.390992  ...         0         0   \n",
      "4    10.951894  30.691244  57.793172  34.438397  ...         1         0   \n",
      "..         ...        ...        ...        ...  ...       ...       ...   \n",
      "739   7.329317   6.872852  81.479618  10.216407  ...         0         0   \n",
      "740   6.386214   6.840621  81.685661   9.223430  ...         0         0   \n",
      "741   7.681018   9.058989  83.294842   9.930716  ...         1         0   \n",
      "742   8.263650   5.233775  87.148894   6.984837  ...         0         1   \n",
      "743   4.483247   4.928131  87.223169   7.325383  ...         0         0   \n",
      "\n",
      "     Year2013  Population_Density_PerSqMile  LN_MedHomeValue_Adj2019  \\\n",
      "0           0                   4180.180180                12.417144   \n",
      "1           0                   4059.459459                12.369452   \n",
      "2           0                   3864.864865                12.386061   \n",
      "3           0                   3760.360360                12.632334   \n",
      "4           0                   3641.441441                12.503433   \n",
      "..        ...                           ...                      ...   \n",
      "739         0                    681.179294                12.222778   \n",
      "740         0                    646.726088                12.277590   \n",
      "741         0                    667.980802                12.341855   \n",
      "742         0                    689.578334                12.359594   \n",
      "743         1                    704.319506                12.305013   \n",
      "\n",
      "     Gini_Index  Per_Capita_Income  Inflation_Multiplier  Disability_Rate  \\\n",
      "0        0.5667            45620.0               1.00000         7.170543   \n",
      "1        0.5768            44501.0               1.01551        11.753119   \n",
      "2        0.5844            42141.0               1.03654        14.440678   \n",
      "3        0.5873            37725.0               1.06245        13.521127   \n",
      "4        0.6058            36293.0               1.07704        14.892086   \n",
      "..          ...                ...                   ...              ...   \n",
      "739      0.4237            37172.0               1.03654         5.561147   \n",
      "740      0.4253            34173.0               1.06245         7.103101   \n",
      "741      0.4458            33670.0               1.07704         7.236336   \n",
      "742      0.4097            31503.0               1.07608         8.575690   \n",
      "743      0.3875            29868.0               1.09307         8.615235   \n",
      "\n",
      "     PerCapitaInc_2019Adj  \n",
      "0             45620.00000  \n",
      "1             45191.21051  \n",
      "2             43680.83214  \n",
      "3             40080.92625  \n",
      "4             39089.01272  \n",
      "..                    ...  \n",
      "739           38530.26488  \n",
      "740           36307.10385  \n",
      "741           36263.93680  \n",
      "742           33899.74824  \n",
      "743           32647.81476  \n",
      "\n",
      "[744 rows x 48 columns]\n"
     ]
    }
   ],
   "source": [
    "print(df)\n"
   ]
  },
  {
   "cell_type": "code",
   "execution_count": 32,
   "metadata": {},
   "outputs": [
    {
     "name": "stdout",
     "output_type": "stream",
     "text": [
      "27.181843695961312 28.97819089918194 26.80327787507729\n",
      "72.8181563040387 71.02180910081806 73.19672212492272\n"
     ]
    }
   ],
   "source": [
    "df.rename(columns={\"Zip Code\" : \"ZipCode\"}, inplace=True)\n",
    "zip1= df[df['ZipCode']==27105.0]['HHPovRate'].mean()\n",
    "zip2= df[df['ZipCode']==27101.0]['HHPovRate'].mean()\n",
    "zip3 = df[df['ZipCode']==27107.0]['HHPovRate'].mean()\n",
    "print(zip1,zip2,zip3)\n",
    "print(100 - zip1,100-zip2,100-zip3)"
   ]
  }
 ],
 "metadata": {
  "kernelspec": {
   "display_name": "Python 3.9.12 ('base')",
   "language": "python",
   "name": "python3"
  },
  "language_info": {
   "codemirror_mode": {
    "name": "ipython",
    "version": 3
   },
   "file_extension": ".py",
   "mimetype": "text/x-python",
   "name": "python",
   "nbconvert_exporter": "python",
   "pygments_lexer": "ipython3",
   "version": "3.9.12"
  },
  "orig_nbformat": 4,
  "vscode": {
   "interpreter": {
    "hash": "ebb61855f7cd1929fe21f73e621b61bfd775e9bcbb0a38042820ac699beb73fc"
   }
  }
 },
 "nbformat": 4,
 "nbformat_minor": 2
}
