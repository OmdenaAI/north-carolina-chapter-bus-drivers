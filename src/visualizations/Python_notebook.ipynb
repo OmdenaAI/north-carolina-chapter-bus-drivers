{
 "cells": [
  {
   "cell_type": "code",
   "execution_count": 1,
   "id": "7af71d1a",
   "metadata": {},
   "outputs": [],
   "source": [
    "%load_ext rpy2.ipython"
   ]
  },
  {
   "cell_type": "code",
   "execution_count": 6,
   "id": "22fed972",
   "metadata": {},
   "outputs": [
    {
     "name": "stdout",
     "output_type": "stream",
     "text": [
      "               _                           \n",
      "platform       x86_64-pc-linux-gnu         \n",
      "arch           x86_64                      \n",
      "os             linux-gnu                   \n",
      "system         x86_64, linux-gnu           \n",
      "status                                     \n",
      "major          4                           \n",
      "minor          2.1                         \n",
      "year           2022                        \n",
      "month          06                          \n",
      "day            23                          \n",
      "svn rev        82513                       \n",
      "language       R                           \n",
      "version.string R version 4.2.1 (2022-06-23)\n",
      "nickname       Funny-Looking Kid           \n"
     ]
    }
   ],
   "source": [
    "%%R\n",
    "\n",
    "R.version"
   ]
  },
  {
   "cell_type": "code",
   "execution_count": 16,
   "id": "840cf91e",
   "metadata": {},
   "outputs": [],
   "source": [
    "import rpy2.robjects.packages as packages\n",
    "import rpy2.robjects.lib.ggplot2 as ggplot2\n",
    "import rpy2.robjects as ro\n",
    "\n"
   ]
  },
  {
   "cell_type": "code",
   "execution_count": 20,
   "id": "a9a00284",
   "metadata": {},
   "outputs": [
    {
     "data": {
      "text/html": [
       "\n",
       "        <span>StrVector with 12 elements.</span>\n",
       "        <table>\n",
       "        <tbody>\n",
       "          <tr>\n",
       "          \n",
       "            <td>\n",
       "            'readxl'\n",
       "            </td>\n",
       "          \n",
       "            <td>\n",
       "            'ggplot2'\n",
       "            </td>\n",
       "          \n",
       "            <td>\n",
       "            'lazyeval'\n",
       "            </td>\n",
       "          \n",
       "            <td>\n",
       "            ...\n",
       "            </td>\n",
       "          \n",
       "            <td>\n",
       "            'datasets'\n",
       "            </td>\n",
       "          \n",
       "            <td>\n",
       "            'methods'\n",
       "            </td>\n",
       "          \n",
       "            <td>\n",
       "            'base'\n",
       "            </td>\n",
       "          \n",
       "          </tr>\n",
       "        </tbody>\n",
       "        </table>\n",
       "        "
      ],
      "text/plain": [
       "<rpy2.robjects.vectors.StrVector object at 0x7f2eefbd5bc0> [RTYPES.STRSXP]\n",
       "R classes: ('character',)\n",
       "['readxl', 'ggplot2', 'lazyeval', 'rlang', ..., 'utils', 'datasets', 'methods', 'base']"
      ]
     },
     "execution_count": 20,
     "metadata": {},
     "output_type": "execute_result"
    }
   ],
   "source": [
    "%R library(readxl)"
   ]
  },
  {
   "cell_type": "code",
   "execution_count": null,
   "id": "df50c041",
   "metadata": {},
   "outputs": [],
   "source": []
  }
 ],
 "metadata": {
  "kernelspec": {
   "display_name": "Python 3 (ipykernel)",
   "language": "python",
   "name": "python3"
  },
  "language_info": {
   "codemirror_mode": {
    "name": "ipython",
    "version": 3
   },
   "file_extension": ".py",
   "mimetype": "text/x-python",
   "name": "python",
   "nbconvert_exporter": "python",
   "pygments_lexer": "ipython3",
   "version": "3.9.11"
  }
 },
 "nbformat": 4,
 "nbformat_minor": 5
}
